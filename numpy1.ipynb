{
 "cells": [
  {
   "cell_type": "markdown",
   "id": "e3ec9e35-77b3-4bd9-b414-72b5116763a6",
   "metadata": {},
   "source": [
    "# Array"
   ]
  },
  {
   "cell_type": "code",
   "execution_count": 4,
   "id": "ce285f9c-ff4d-4209-8aed-8260d9988bca",
   "metadata": {},
   "outputs": [
    {
     "name": "stdout",
     "output_type": "stream",
     "text": [
      "[1 2 3 4 5]\n",
      "<class 'numpy.ndarray'>\n"
     ]
    }
   ],
   "source": [
    "import numpy as np\n",
    "x = [1,2,3,4,5]\n",
    "\n",
    "y = np.array(x)\n",
    "print(y)\n",
    "print(type(y))"
   ]
  },
  {
   "cell_type": "code",
   "execution_count": 5,
   "id": "d0275bf5-876f-4a03-b1d9-d9fe135f2bad",
   "metadata": {},
   "outputs": [
    {
     "data": {
      "text/plain": [
       "array([1, 2, 3, 4, 5])"
      ]
     },
     "execution_count": 5,
     "metadata": {},
     "output_type": "execute_result"
    }
   ],
   "source": [
    "y"
   ]
  },
  {
   "cell_type": "markdown",
   "id": "8d7f95a3-8cdb-4c02-aa59-cefe0c2b7590",
   "metadata": {},
   "source": [
    "- User input array creation"
   ]
  },
  {
   "cell_type": "code",
   "execution_count": 10,
   "id": "786b8ccd-5aa0-4008-b999-e69637dcff50",
   "metadata": {},
   "outputs": [
    {
     "name": "stdout",
     "output_type": "stream",
     "text": [
      "Enter:  1\n",
      "Enter:  2\n",
      "Enter:  3\n",
      "Enter:  4\n"
     ]
    },
    {
     "name": "stdout",
     "output_type": "stream",
     "text": [
      "[1, 2, 3, 4]\n",
      "[1 2 3 4]\n"
     ]
    }
   ],
   "source": [
    "\n",
    "list_user = []\n",
    "for i in range(1,5):\n",
    "    int_1 = int(input(\"Enter: \"))\n",
    "    list_user.append(int_1)\n",
    "print(list_user) #list print\n",
    "\n",
    "# np.array converts a list into an array\n",
    "print(np.array(list_user))"
   ]
  },
  {
   "cell_type": "code",
   "execution_count": 12,
   "id": "23bdb196-dc20-41da-b52e-c82d4f2407d0",
   "metadata": {},
   "outputs": [
    {
     "data": {
      "text/plain": [
       "array([1, 2, 3, 4, 5])"
      ]
     },
     "execution_count": 12,
     "metadata": {},
     "output_type": "execute_result"
    }
   ],
   "source": [
    "y"
   ]
  },
  {
   "cell_type": "code",
   "execution_count": 14,
   "id": "b6389b32-4819-4e59-a35b-d946bef9e4e0",
   "metadata": {},
   "outputs": [
    {
     "name": "stdout",
     "output_type": "stream",
     "text": [
      "1\n"
     ]
    }
   ],
   "source": [
    "# what is the dimension of y array\n",
    "\n",
    "print(y.ndim)"
   ]
  },
  {
   "cell_type": "code",
   "execution_count": 17,
   "id": "8777028d-9c49-4f7e-ab44-b1753f2c4553",
   "metadata": {},
   "outputs": [
    {
     "name": "stdout",
     "output_type": "stream",
     "text": [
      "[[1 2 3 4]\n",
      " [5 6 7 8]]\n",
      "2\n"
     ]
    }
   ],
   "source": [
    "# Create a 2D array\n",
    "arr2 = np.array([[1,2,3,4],[5,6,7,8]])\n",
    "print(arr2)\n",
    "print(arr2.ndim)"
   ]
  },
  {
   "cell_type": "code",
   "execution_count": 18,
   "id": "346c88a9-c35b-4996-8372-8df72df84cc8",
   "metadata": {},
   "outputs": [
    {
     "name": "stdout",
     "output_type": "stream",
     "text": [
      "[[[1 2 3 4]\n",
      "  [1 2 3 4]\n",
      "  [1 2 3 4]]]\n",
      "3\n"
     ]
    }
   ],
   "source": [
    "# 3D Array\n",
    "\n",
    "arr3 = np.array([[[1,2,3,4],[1,2,3,4],[1,2,3,4]]])\n",
    "print(arr3)\n",
    "print(arr3.ndim)"
   ]
  },
  {
   "cell_type": "code",
   "execution_count": 20,
   "id": "87bfd955-3892-4378-a7a0-6629a84da4bb",
   "metadata": {},
   "outputs": [
    {
     "name": "stdout",
     "output_type": "stream",
     "text": [
      "[[[[[[[[[[1 2 3 4]]]]]]]]]]\n",
      "10\n"
     ]
    }
   ],
   "source": [
    "# create n dimensional array  eg. 10D\n",
    "arrn = np.array([1,2,3,4], ndmin=10)\n",
    "print(arrn)\n",
    "print(arrn.ndim)"
   ]
  },
  {
   "cell_type": "markdown",
   "id": "839eef55-6dfc-455d-b785-44603a94590c",
   "metadata": {},
   "source": [
    "## Create Numpy using function"
   ]
  },
  {
   "cell_type": "markdown",
   "id": "9a3b536b-1706-47fc-a41b-ee860f1dd0e3",
   "metadata": {},
   "source": [
    "- array filled with 0, 1, empty, range of elements etc.\n"
   ]
  },
  {
   "cell_type": "markdown",
   "id": "b984d945-6663-4d34-b908-a40c1635ae15",
   "metadata": {},
   "source": [
    "## zeros"
   ]
  },
  {
   "cell_type": "code",
   "execution_count": 23,
   "id": "1205210e-c06d-4c46-9d3f-b85ec64738e4",
   "metadata": {},
   "outputs": [
    {
     "name": "stdout",
     "output_type": "stream",
     "text": [
      "[0. 0. 0. 0.]\n",
      "[[0. 0. 0. 0.]\n",
      " [0. 0. 0. 0.]\n",
      " [0. 0. 0. 0.]]\n"
     ]
    }
   ],
   "source": [
    "import numpy as np\n",
    "ar_zero = np.zeros(4)\n",
    "# create zeros - x,y dimentional array\n",
    "ar_zero1 = np.zeros((3,4))\n",
    "print(ar_zero)\n",
    "print(ar_zero1)\n",
    "\n"
   ]
  },
  {
   "cell_type": "markdown",
   "id": "d1db7ab1-b514-4de2-99d6-81fb491a827d",
   "metadata": {},
   "source": [
    "## Ones"
   ]
  },
  {
   "cell_type": "code",
   "execution_count": 24,
   "id": "6acdd054-0c52-4c6c-bc79-2d400ff495c1",
   "metadata": {},
   "outputs": [
    {
     "name": "stdout",
     "output_type": "stream",
     "text": [
      "[1. 1. 1. 1.]\n"
     ]
    }
   ],
   "source": [
    "# create 1 d array of 4 elements\n",
    "ar_ones = np.ones(4)\n",
    "print(ar_ones)"
   ]
  },
  {
   "cell_type": "markdown",
   "id": "e27f9cae-31fe-44cd-9a3a-88d913e459e6",
   "metadata": {},
   "source": [
    "## Empty"
   ]
  },
  {
   "cell_type": "code",
   "execution_count": 25,
   "id": "eea22a0c-6422-454b-8f1d-99a503b1484f",
   "metadata": {},
   "outputs": [
    {
     "name": "stdout",
     "output_type": "stream",
     "text": [
      "[1. 1. 1. 1.]\n"
     ]
    }
   ],
   "source": [
    "empty_arr = np.empty(4)\n",
    "print(empty_arr)"
   ]
  },
  {
   "cell_type": "markdown",
   "id": "aee29fae-886e-4775-a478-d658c86f95ce",
   "metadata": {},
   "source": [
    "## Array with Range"
   ]
  },
  {
   "cell_type": "code",
   "execution_count": 27,
   "id": "a8e87eed-fccd-4b89-a40f-87ae79b6c63b",
   "metadata": {},
   "outputs": [
    {
     "name": "stdout",
     "output_type": "stream",
     "text": [
      "[0 1 2 3]\n"
     ]
    }
   ],
   "source": [
    "arr_range = np.arange(4)\n",
    "print(arr_range)"
   ]
  },
  {
   "cell_type": "markdown",
   "id": "5fc363a3-ea2c-4c1a-a34a-09ba2e7b1907",
   "metadata": {},
   "source": [
    "## Array diagonal elements as 1"
   ]
  },
  {
   "cell_type": "code",
   "execution_count": 30,
   "id": "dede54b8-bb95-4f62-8332-7d4eccf12e98",
   "metadata": {},
   "outputs": [
    {
     "name": "stdout",
     "output_type": "stream",
     "text": [
      "[[1. 0. 0.]\n",
      " [0. 1. 0.]\n",
      " [0. 0. 1.]]\n"
     ]
    }
   ],
   "source": [
    "diag_arr = np.eye(3,3) #Create 3X3 Array of 2D with Diagonals as 1\n",
    "print(diag_arr)"
   ]
  },
  {
   "cell_type": "code",
   "execution_count": 31,
   "id": "c2e4bb82-d09b-4279-92c6-8c43e620c84a",
   "metadata": {},
   "outputs": [
    {
     "name": "stdout",
     "output_type": "stream",
     "text": [
      "[[1. 0. 0. 0. 0.]\n",
      " [0. 1. 0. 0. 0.]\n",
      " [0. 0. 1. 0. 0.]]\n"
     ]
    }
   ],
   "source": [
    "# 3X5 diagonal array\n",
    "diag_3x5_arr = np.eye(3,5)\n",
    "print(diag_3x5_arr)"
   ]
  },
  {
   "cell_type": "markdown",
   "id": "7d5c6a33-6cd1-475d-b0ce-ab25742a9f23",
   "metadata": {},
   "source": [
    "## Create an Array with values that are spaced linearly in a specified interval"
   ]
  },
  {
   "cell_type": "code",
   "execution_count": 32,
   "id": "862c07ae-7515-42a2-b147-fc8f7c9db54b",
   "metadata": {},
   "outputs": [
    {
     "name": "stdout",
     "output_type": "stream",
     "text": [
      "[ 0.   2.5  5.   7.5 10. ]\n"
     ]
    }
   ],
   "source": [
    "# create linspace array from 0 to 10 range containing 5 elements\n",
    "arr_linspace = np.linspace(0,10, num= 5)\n",
    "print(arr_linspace)"
   ]
  },
  {
   "cell_type": "markdown",
   "id": "2209703d-883d-428d-87e6-5184a8999806",
   "metadata": {},
   "source": [
    "## Day 2- Creating numpy array with Random number"
   ]
  },
  {
   "cell_type": "markdown",
   "id": "6eea6670-6331-4f01-ab98-c5c7a20c9030",
   "metadata": {},
   "source": [
    "### Rand()\n"
   ]
  },
  {
   "cell_type": "code",
   "execution_count": 3,
   "id": "89aa279c-0f30-440e-b1b1-6b63ccd23542",
   "metadata": {},
   "outputs": [
    {
     "name": "stdout",
     "output_type": "stream",
     "text": [
      "[0.38486649 0.44035231 0.19862152 0.26886419]\n"
     ]
    }
   ],
   "source": [
    "import numpy as np\n",
    "arrray_rand = np.random.rand(4) #create 1D array consisting 4 values.\n",
    "print(arrray_rand)"
   ]
  },
  {
   "cell_type": "code",
   "execution_count": 2,
   "id": "5895e7d3-1b30-4652-a7ca-dc3ebc8fff6c",
   "metadata": {},
   "outputs": [
    {
     "name": "stdout",
     "output_type": "stream",
     "text": [
      "Hello Aditya\n"
     ]
    }
   ],
   "source": [
    "print(\"Hello Aditya\")"
   ]
  },
  {
   "cell_type": "code",
   "execution_count": 8,
   "id": "dce834cd",
   "metadata": {},
   "outputs": [
    {
     "name": "stdout",
     "output_type": "stream",
     "text": [
      "[[0.81905296 0.79841614 0.84791282 0.8379327  0.354932  ]\n",
      " [0.26844858 0.73070806 0.64773814 0.42577192 0.10737087]]\n"
     ]
    }
   ],
   "source": [
    "# Create an array with 2 rows and 5 columns\n",
    "# Create an array of the given shape and populate it with random samples\n",
    "#  from a uniform distribution over [0, 1).\n",
    "\n",
    "var_2x5 = np.random.rand(2,5)\n",
    "print(var_2x5)"
   ]
  },
  {
   "cell_type": "code",
   "execution_count": 9,
   "id": "b332f7cf",
   "metadata": {},
   "outputs": [
    {
     "name": "stdout",
     "output_type": "stream",
     "text": [
      "[ 1.54993734  0.47476002  0.9505484  -1.09700828  0.74756032]\n"
     ]
    }
   ],
   "source": [
    "# randn() = generate random value close to zero, it may contain negative values too.\n",
    "\n",
    "var_randn  = np.random.randn(5)\n",
    "print(var_randn)"
   ]
  },
  {
   "cell_type": "markdown",
   "id": "e7bc51ac",
   "metadata": {},
   "source": [
    "## ranf()"
   ]
  },
  {
   "cell_type": "code",
   "execution_count": 14,
   "id": "33b03ff2",
   "metadata": {},
   "outputs": [
    {
     "name": "stdout",
     "output_type": "stream",
     "text": [
      "[0.65785456 0.95955984 0.44956015 0.96960223]\n"
     ]
    }
   ],
   "source": [
    "var_ranf = np.random.ranf(4)\n",
    "print(var_ranf)"
   ]
  },
  {
   "cell_type": "markdown",
   "id": "09bbf3e0",
   "metadata": {},
   "source": []
  },
  {
   "cell_type": "markdown",
   "id": "56d9e60e",
   "metadata": {},
   "source": [
    "## randint()"
   ]
  },
  {
   "cell_type": "code",
   "execution_count": 21,
   "id": "a577abfb",
   "metadata": {},
   "outputs": [
    {
     "name": "stdout",
     "output_type": "stream",
     "text": [
      "[9 9 9 6 8]\n"
     ]
    }
   ],
   "source": [
    "min, max, total_number = 5,20, 5\n",
    "# generate 5 number between 5 to 20 \n",
    "var_randint = np.random.randint(min,max, total_number)\n",
    "print(var_randint)"
   ]
  },
  {
   "cell_type": "code",
   "execution_count": null,
   "id": "6984bcfa",
   "metadata": {},
   "outputs": [],
   "source": []
  },
  {
   "cell_type": "code",
   "execution_count": null,
   "id": "74d92788",
   "metadata": {},
   "outputs": [],
   "source": []
  }
 ],
 "metadata": {
  "kernelspec": {
   "display_name": "Python 3 (ipykernel)",
   "language": "python",
   "name": "python3"
  },
  "language_info": {
   "codemirror_mode": {
    "name": "ipython",
    "version": 3
   },
   "file_extension": ".py",
   "mimetype": "text/x-python",
   "name": "python",
   "nbconvert_exporter": "python",
   "pygments_lexer": "ipython3",
   "version": "3.10.12"
  }
 },
 "nbformat": 4,
 "nbformat_minor": 5
}
