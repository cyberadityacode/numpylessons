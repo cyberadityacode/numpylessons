{
 "cells": [
  {
   "cell_type": "markdown",
   "metadata": {},
   "source": [
    "## Numpy Functions\n",
    "#### Shufle"
   ]
  },
  {
   "cell_type": "code",
   "execution_count": 6,
   "metadata": {},
   "outputs": [
    {
     "name": "stdout",
     "output_type": "stream",
     "text": [
      "[1 5 4 3 2]\n"
     ]
    }
   ],
   "source": [
    "import numpy as np \n",
    "var_a = np.array([1,2,3,4,5])\n",
    "np.random.shuffle(var_a)\n",
    "\n",
    "print(var_a)"
   ]
  },
  {
   "cell_type": "markdown",
   "metadata": {},
   "source": [
    "### Unique"
   ]
  },
  {
   "cell_type": "code",
   "execution_count": 8,
   "metadata": {},
   "outputs": [
    {
     "name": "stdout",
     "output_type": "stream",
     "text": [
      "(array([1, 2, 3, 4, 6]), array([0, 1, 2, 5, 6]), array([2, 3, 2, 1, 1]))\n"
     ]
    }
   ],
   "source": [
    "var_data = np.array([1,2,3,1,2,4,6,3,2])\n",
    "\n",
    "# x = np.unique(var_data)\n",
    "x = np.unique(var_data, return_index=True, return_counts=True) #if you want to see index\n",
    "print(x)"
   ]
  },
  {
   "cell_type": "markdown",
   "metadata": {},
   "source": [
    "### Resize"
   ]
  },
  {
   "cell_type": "code",
   "execution_count": 9,
   "metadata": {},
   "outputs": [
    {
     "name": "stdout",
     "output_type": "stream",
     "text": [
      "[[1 2 3]\n",
      " [4 5 1]]\n"
     ]
    }
   ],
   "source": [
    "var2 = np.array([1,2,3,4,5])\n",
    "y = np.resize(var2,(2,3))\n",
    "print(y)"
   ]
  },
  {
   "cell_type": "markdown",
   "metadata": {},
   "source": [
    "### Flaten"
   ]
  },
  {
   "cell_type": "code",
   "execution_count": 17,
   "metadata": {},
   "outputs": [
    {
     "name": "stdout",
     "output_type": "stream",
     "text": [
      "[1 2 3 4 5 1]\n"
     ]
    }
   ],
   "source": [
    "# y is already a 2D array\n",
    "print(y.flatten(order=\"C\")) #converted into 1D array."
   ]
  },
  {
   "cell_type": "markdown",
   "metadata": {},
   "source": [
    "### Ravel \n",
    "is a function that returns a flattened, one-dimensional array containing the same elements as the input array. It returns a view of the original array whenever possible; "
   ]
  },
  {
   "cell_type": "code",
   "execution_count": 18,
   "metadata": {},
   "outputs": [
    {
     "name": "stdout",
     "output_type": "stream",
     "text": [
      "[1 2 3 4 5 1]\n"
     ]
    }
   ],
   "source": [
    "print(np.ravel(y))"
   ]
  },
  {
   "cell_type": "code",
   "execution_count": 28,
   "metadata": {},
   "outputs": [
    {
     "name": "stdout",
     "output_type": "stream",
     "text": [
      "[1 2 3 4 2 3]\n",
      "[2 3 4]\n"
     ]
    }
   ],
   "source": [
    "var_data = np.array([1,2,3,4])\n",
    "# x= np.insert(var_data,2, 40) #2nd index value 40\n",
    "x = np.append(var_data, [2,3] )\n",
    "print(x)\n",
    "\n",
    "delete_va = np.delete(var_data,0)\n",
    "print(delete_va)"
   ]
  },
  {
   "cell_type": "markdown",
   "metadata": {},
   "source": []
  }
 ],
 "metadata": {
  "kernelspec": {
   "display_name": "Python 3",
   "language": "python",
   "name": "python3"
  },
  "language_info": {
   "codemirror_mode": {
    "name": "ipython",
    "version": 3
   },
   "file_extension": ".py",
   "mimetype": "text/x-python",
   "name": "python",
   "nbconvert_exporter": "python",
   "pygments_lexer": "ipython3",
   "version": "3.10.12"
  }
 },
 "nbformat": 4,
 "nbformat_minor": 2
}
