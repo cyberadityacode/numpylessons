{
 "cells": [
  {
   "cell_type": "markdown",
   "metadata": {},
   "source": [
    "## Indexing and Slicing in numpy arrays"
   ]
  },
  {
   "cell_type": "code",
   "execution_count": 4,
   "metadata": {},
   "outputs": [
    {
     "name": "stdout",
     "output_type": "stream",
     "text": [
      "8\n",
      "6\n",
      "[8 7 6]\n"
     ]
    }
   ],
   "source": [
    "import numpy as np \n",
    "\n",
    "var_1d = np.array([9,8,7,6])\n",
    "# index 8 \n",
    "\n",
    "print(var_1d[1])\n",
    "print(var_1d[-1]) #6\n",
    "print(var_1d[1:]) #876"
   ]
  },
  {
   "cell_type": "code",
   "execution_count": 7,
   "metadata": {},
   "outputs": [
    {
     "name": "stdout",
     "output_type": "stream",
     "text": [
      "[5 6]\n",
      "8\n",
      "[8 6]\n"
     ]
    }
   ],
   "source": [
    "var_2d = np.array([[8,6,5],\n",
    "                   [4,5,6]\n",
    "                   ])\n",
    "print(var_2d[1,1:])  #5,6\n",
    "# print 8\n",
    "print(var_2d[0,0])\n",
    "print(var_2d[0,:2])  #8 and 6"
   ]
  },
  {
   "cell_type": "code",
   "execution_count": 71,
   "metadata": {},
   "outputs": [
    {
     "name": "stdout",
     "output_type": "stream",
     "text": [
      "3\n",
      "6\n",
      "[3 5]\n",
      "[2 6]\n",
      "[1 3 5]\n",
      "------------------------------\n",
      "[[4]\n",
      " [6]]\n"
     ]
    }
   ],
   "source": [
    "var_3d = np.array([[[1,2],\n",
    "                    [3,4],\n",
    "                    [5,6]\n",
    "                    ]])\n",
    "print(var_3d.ndim)\n",
    "# access 6 number\n",
    "print(var_3d[0,2,1])\n",
    "print(var_3d[0,1:,0]) # access 3 and 5\n",
    "print(var_3d[0,(0,2),(1,1)]) # access 2 and 5\n",
    "print(var_3d[0,0:,0]) # access 1,3,5\n",
    "print(\"-\"*30)\n"
   ]
  },
  {
   "cell_type": "markdown",
   "metadata": {},
   "source": [
    "### Slicing\n",
    "- In NumPy, slicing is a powerful way to extract a portion of an array. \n",
    "- It allows you to create a view into the original array without copying the data. \n",
    "- NumPy slicing follows a similar syntax to Python lists.\n",
    "- start:stop:step\n"
   ]
  },
  {
   "cell_type": "code",
   "execution_count": 84,
   "metadata": {},
   "outputs": [
    {
     "name": "stdout",
     "output_type": "stream",
     "text": [
      "[2 3 4 5]\n",
      "[2 4]\n",
      "[7 6 5 4 3 2]\n",
      "[7 5 3]\n"
     ]
    }
   ],
   "source": [
    "var_sl = np.array([1,2,3,4,5,6,7])\n",
    "print(var_sl[1:5]) #2,3,4,5\n",
    "print(var_sl[1:5:2]) #2,4 ie, step 2 (even)\n",
    "print(var_sl[7:0:-1]) #neg slice end to initial\n",
    "print(var_sl[len(var_sl):0:-2]) #neg slice end to initial with step 2"
   ]
  },
  {
   "cell_type": "code",
   "execution_count": 94,
   "metadata": {},
   "outputs": [
    {
     "name": "stdout",
     "output_type": "stream",
     "text": [
      "[3 4 5 6]\n",
      "[[3 4]\n",
      " [3 4]]\n",
      "[[3 4]\n",
      " [4 5]]\n"
     ]
    }
   ],
   "source": [
    "var_2dd = np.array([[1,2,3,4,5],\n",
    "                    [2,3,4,5,6],\n",
    "                    [2,3,4,5,6]])\n",
    "# print 3,4,5,6 of 2nd row\n",
    "print(var_2dd[1,1:])\n",
    "\n",
    "# print 3,4 of 2nd and 3rd row\n",
    "print(var_2dd[1:,1:3])\n",
    "\n",
    "# access 3,4 of row1 and 45 of 3rd row\n",
    "print(var_2dd[0:2:1,2:4])"
   ]
  },
  {
   "cell_type": "code",
   "execution_count": null,
   "metadata": {},
   "outputs": [],
   "source": []
  }
 ],
 "metadata": {
  "kernelspec": {
   "display_name": "Python 3",
   "language": "python",
   "name": "python3"
  },
  "language_info": {
   "codemirror_mode": {
    "name": "ipython",
    "version": 3
   },
   "file_extension": ".py",
   "mimetype": "text/x-python",
   "name": "python",
   "nbconvert_exporter": "python",
   "pygments_lexer": "ipython3",
   "version": "3.10.12"
  }
 },
 "nbformat": 4,
 "nbformat_minor": 2
}
