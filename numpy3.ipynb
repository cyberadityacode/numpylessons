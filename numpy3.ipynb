{
 "cells": [
  {
   "cell_type": "markdown",
   "metadata": {},
   "source": [
    "# Shape and Reshape in numpy"
   ]
  },
  {
   "cell_type": "code",
   "execution_count": 9,
   "metadata": {},
   "outputs": [
    {
     "name": "stdout",
     "output_type": "stream",
     "text": [
      "[[1 2 3 4]\n",
      " [1 2 3 4]]\n",
      "\n",
      "(2, 4)\n"
     ]
    }
   ],
   "source": [
    "import numpy as np\n",
    "\n",
    "var = np.array([[1,2,3,4],[1,2,3,4]])\n",
    "\n",
    "print(var)\n",
    "print()\n",
    "print(var.shape)  #2 rows and 4 columns"
   ]
  },
  {
   "cell_type": "code",
   "execution_count": 14,
   "metadata": {},
   "outputs": [
    {
     "name": "stdout",
     "output_type": "stream",
     "text": [
      "[[[[1 2 3 4]]]]\n",
      "4\n",
      "(1, 1, 1, 4)\n"
     ]
    }
   ],
   "source": [
    "# create 4 dimensional array\n",
    "var1 = np.array([1,2,3,4], ndmin=4)\n",
    "print(var1)\n",
    "print(var1.ndim)\n",
    "# What is the shape\n",
    "print(var1.shape)\n",
    "# '''\n",
    "# (1, 1, 1, 4) here 4 dim split as initial 3 are rows and last is column\n",
    "# '''\n"
   ]
  },
  {
   "cell_type": "markdown",
   "metadata": {},
   "source": [
    "## Reshape"
   ]
  },
  {
   "cell_type": "code",
   "execution_count": 21,
   "metadata": {},
   "outputs": [
    {
     "name": "stdout",
     "output_type": "stream",
     "text": [
      "[1 2 3 4 5 6]\n",
      "[[1 2]\n",
      " [3 4]\n",
      " [5 6]]\n",
      "1\n",
      "2\n"
     ]
    }
   ],
   "source": [
    "array_1d = np.array([1,2,3,4,5,6])  #1D array\n",
    "x = array_1d.reshape(3,2)  #3 rows and 2 columns  [2D array]\n",
    "print(array_1d)\n",
    "print(x)\n",
    "\n",
    "print(array_1d.ndim) #number of dimensions\n",
    "print(x.ndim)"
   ]
  },
  {
   "cell_type": "code",
   "execution_count": 25,
   "metadata": {},
   "outputs": [
    {
     "name": "stdout",
     "output_type": "stream",
     "text": [
      "[[[ 1  2]\n",
      "  [ 3  4]\n",
      "  [ 5  6]]\n",
      "\n",
      " [[ 7  8]\n",
      "  [ 9 10]\n",
      "  [11 12]]\n",
      "\n",
      " [[13 14]\n",
      "  [15 16]\n",
      "  [17 18]]]\n"
     ]
    }
   ],
   "source": [
    "var_temp3d = np.array([[[1,2,3,4,5,6,7,8,9,10,11,12,13,14,15,16,17,18]]])\n",
    "\n",
    "convert_3d = var_temp3d.reshape(3,3,2) #3D array with 3*3*2 = 18 Elements but 3 rows and 3 columns\n",
    "print(convert_3d)"
   ]
  },
  {
   "cell_type": "code",
   "execution_count": 28,
   "metadata": {},
   "outputs": [
    {
     "name": "stdout",
     "output_type": "stream",
     "text": [
      "[ 1  2  3  4  5  6  7  8  9 10 11 12 13 14 15 16 17 18]\n",
      "One Dimensional array  1\n"
     ]
    }
   ],
   "source": [
    "# reconvert 3d into 1D\n",
    "\n",
    "one_d = convert_3d.reshape(-1)\n",
    "print(one_d)\n",
    "print(\"One Dimensional array \",one_d.ndim)"
   ]
  },
  {
   "cell_type": "code",
   "execution_count": null,
   "metadata": {},
   "outputs": [],
   "source": []
  }
 ],
 "metadata": {
  "kernelspec": {
   "display_name": "Python 3",
   "language": "python",
   "name": "python3"
  },
  "language_info": {
   "codemirror_mode": {
    "name": "ipython",
    "version": 3
   },
   "file_extension": ".py",
   "mimetype": "text/x-python",
   "name": "python",
   "nbconvert_exporter": "python",
   "pygments_lexer": "ipython3",
   "version": "3.10.12"
  }
 },
 "nbformat": 4,
 "nbformat_minor": 2
}
