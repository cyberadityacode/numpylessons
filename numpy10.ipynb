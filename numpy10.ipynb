{
 "cells": [
  {
   "cell_type": "markdown",
   "metadata": {},
   "source": [
    "## Join and Split Function in numpy array"
   ]
  },
  {
   "cell_type": "code",
   "execution_count": 3,
   "metadata": {},
   "outputs": [],
   "source": [
    "import numpy as np "
   ]
  },
  {
   "cell_type": "code",
   "execution_count": 8,
   "metadata": {},
   "outputs": [
    {
     "name": "stdout",
     "output_type": "stream",
     "text": [
      "[12  3 43 23  1  2  3  4]\n",
      "[12  3 43 23  1  2  3  4]\n"
     ]
    }
   ],
   "source": [
    "var_a = np.array([12,3,43,23])\n",
    "var_b = np.array([1,2,3,4])\n",
    "\n",
    "ar = np.concatenate((var_a,var_b))\n",
    "print(ar)\n",
    "\n",
    "ar2 = np.concatenate((var_a,var_b), axis=0)\n",
    "print(ar2)"
   ]
  },
  {
   "cell_type": "code",
   "execution_count": 14,
   "metadata": {},
   "outputs": [
    {
     "name": "stdout",
     "output_type": "stream",
     "text": [
      "[[12  1]\n",
      " [ 3  2]\n",
      " [43  3]\n",
      " [23  4]]\n",
      "\n",
      "[12  3 43 23  1  2  3  4]\n",
      "[[12  3 43 23]\n",
      " [ 1  2  3  4]]\n",
      "[[[12  1]\n",
      "  [ 3  2]\n",
      "  [43  3]\n",
      "  [23  4]]]\n"
     ]
    }
   ],
   "source": [
    "var_c = np.array([12,3,43,23])\n",
    "var_d = np.array([1,2,3,4])\n",
    "\n",
    "c_new = np.stack((var_c,var_d), axis=1)\n",
    "d_new = np.hstack((var_c,var_d)) #row\n",
    "d_new2 = np.vstack((var_c,var_d)) #column\n",
    "d_new3 = np.dstack((var_c,var_d)) #height\n",
    "\n",
    "print(c_new)\n",
    "print()\n",
    "print(d_new)\n",
    "print(d_new2)\n",
    "print(d_new3)\n"
   ]
  },
  {
   "cell_type": "markdown",
   "metadata": {},
   "source": [
    "### Split Array"
   ]
  },
  {
   "cell_type": "code",
   "execution_count": 22,
   "metadata": {},
   "outputs": [
    {
     "name": "stdout",
     "output_type": "stream",
     "text": [
      "[1 2 3 4 5 6]\n",
      "**********\n",
      "[array([1, 2]), array([3, 4]), array([5, 6])]\n"
     ]
    }
   ],
   "source": [
    "# 1D array Split\n",
    "\n",
    "var_1d = np.array([1,2,3,4,5,6])\n",
    "print(var_1d)\n",
    "\n",
    "print(\"*\"*10)\n",
    "var_new_split_array = np.array_split(var_1d, 3) #3 split array\n",
    "print(var_new_split_array)"
   ]
  },
  {
   "cell_type": "code",
   "execution_count": 27,
   "metadata": {},
   "outputs": [
    {
     "name": "stdout",
     "output_type": "stream",
     "text": [
      "[[1 2]\n",
      " [3 4]\n",
      " [5 6]]\n",
      "**********\n",
      "[array([[1, 2]]), array([[3, 4]]), array([[5, 6]])]\n"
     ]
    }
   ],
   "source": [
    "# Splitting 2D array\n",
    "var_2d = np.array([[1,2],[3,4],[5,6]])\n",
    "print(var_2d)\n",
    "\n",
    "print(\"*\"*10)\n",
    "var_2d_split = np.array_split(var_2d, 3)\n",
    "print(var_2d_split)"
   ]
  },
  {
   "cell_type": "code",
   "execution_count": null,
   "metadata": {},
   "outputs": [],
   "source": []
  }
 ],
 "metadata": {
  "kernelspec": {
   "display_name": "Python 3",
   "language": "python",
   "name": "python3"
  },
  "language_info": {
   "codemirror_mode": {
    "name": "ipython",
    "version": 3
   },
   "file_extension": ".py",
   "mimetype": "text/x-python",
   "name": "python",
   "nbconvert_exporter": "python",
   "pygments_lexer": "ipython3",
   "version": "3.10.12"
  }
 },
 "nbformat": 4,
 "nbformat_minor": 2
}
