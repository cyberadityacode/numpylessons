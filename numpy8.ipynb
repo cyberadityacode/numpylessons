{
 "cells": [
  {
   "cell_type": "markdown",
   "metadata": {},
   "source": [
    "## Numpy Array Iteration"
   ]
  },
  {
   "cell_type": "markdown",
   "metadata": {},
   "source": []
  },
  {
   "cell_type": "code",
   "execution_count": 2,
   "metadata": {},
   "outputs": [
    {
     "name": "stdout",
     "output_type": "stream",
     "text": [
      "[1 0 7 2 4]\n",
      "1\n",
      "0\n",
      "7\n",
      "2\n",
      "4\n"
     ]
    }
   ],
   "source": [
    "import numpy as np \n",
    "var_a = np.array([1,0,7,2,4])\n",
    "print(var_a)\n",
    "\n",
    "for i in var_a:\n",
    "    print(i)\n"
   ]
  },
  {
   "cell_type": "code",
   "execution_count": 7,
   "metadata": {},
   "outputs": [
    {
     "name": "stdout",
     "output_type": "stream",
     "text": [
      "2\n",
      "\n",
      "[1 2 3 4]\n",
      "[23 45 23 25]\n",
      "----------\n",
      "1\n",
      "2\n",
      "3\n",
      "4\n",
      "23\n",
      "45\n",
      "23\n",
      "25\n"
     ]
    }
   ],
   "source": [
    "# iterating though a 2D Arrray\n",
    "var_2d = np.array([[1,2,3,4], \n",
    "                   [23,45,23,25]])\n",
    "print(var_2d.ndim) #2D Array\n",
    "print()\n",
    "\n",
    "for j in var_2d:\n",
    "    print(j)\n",
    "\n",
    "print(\"-\"*10)\n",
    "\n",
    "for k in var_2d:\n",
    "    for l in k:\n",
    "        print(l)\n"
   ]
  },
  {
   "cell_type": "code",
   "execution_count": 13,
   "metadata": {},
   "outputs": [
    {
     "name": "stdout",
     "output_type": "stream",
     "text": [
      "1\n",
      "2\n",
      "3\n",
      "3\n",
      "2\n",
      "1\n",
      "4\n",
      "5\n",
      "6\n",
      "----------\n",
      "2\n"
     ]
    }
   ],
   "source": [
    "# 3D Array\n",
    "\n",
    "var_3d = np.array([[[1,2,3],\n",
    "                    [3,2,1],\n",
    "                    [4,5,6]]])\n",
    "# print(var_3d.ndim) #3D\n",
    "\n",
    "# iterate 3D array\n",
    "for i in var_3d:\n",
    "    for j in i:\n",
    "        for k in j:\n",
    "            print(k)\n",
    "print(\"-\"*10)\n",
    "# access specific element - eg 2nd row 2nd column (2)\n",
    "print(var_3d[0,1,1])\n"
   ]
  },
  {
   "cell_type": "markdown",
   "metadata": {},
   "source": [
    "### nditr function to iterate through array"
   ]
  },
  {
   "cell_type": "code",
   "execution_count": 18,
   "metadata": {},
   "outputs": [
    {
     "name": "stdout",
     "output_type": "stream",
     "text": [
      "b'9'\n",
      "b'8'\n",
      "b'7'\n",
      "b'6'\n",
      "b'1'\n",
      "b'2'\n",
      "b'3'\n",
      "b'4'\n"
     ]
    }
   ],
   "source": [
    "var_3d2 = np.array([[[9,8,7,6],[1,2,3,4]]])\n",
    "# print(var_3d2.ndim)\n",
    "# for i in np.nditer(var_3d2):\n",
    "#     print(i)\n",
    "# store earlier data in buffer and convert into strings\n",
    "for i in np.nditer(var_3d2, flags=['buffered'], op_dtypes=['S']):\n",
    "    print(i)\n"
   ]
  },
  {
   "cell_type": "code",
   "execution_count": 19,
   "metadata": {},
   "outputs": [
    {
     "name": "stdout",
     "output_type": "stream",
     "text": [
      "(0, 0, 0) 9\n",
      "(0, 0, 1) 8\n",
      "(0, 0, 2) 7\n",
      "(0, 0, 3) 6\n",
      "(0, 1, 0) 1\n",
      "(0, 1, 1) 2\n",
      "(0, 1, 2) 3\n",
      "(0, 1, 3) 4\n"
     ]
    }
   ],
   "source": [
    "# print index number along with iteration\n",
    "\n",
    "var_3d3 = np.array([[[9,8,7,6],[1,2,3,4]]])\n",
    "# similar to enumerate\n",
    "for i,d in np.ndenumerate(var_3d3):\n",
    "    print(i,d)"
   ]
  },
  {
   "cell_type": "code",
   "execution_count": null,
   "metadata": {},
   "outputs": [],
   "source": []
  }
 ],
 "metadata": {
  "kernelspec": {
   "display_name": "Python 3",
   "language": "python",
   "name": "python3"
  },
  "language_info": {
   "codemirror_mode": {
    "name": "ipython",
    "version": 3
   },
   "file_extension": ".py",
   "mimetype": "text/x-python",
   "name": "python",
   "nbconvert_exporter": "python",
   "pygments_lexer": "ipython3",
   "version": "3.10.12"
  }
 },
 "nbformat": 4,
 "nbformat_minor": 2
}
