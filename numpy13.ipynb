{
 "cells": [
  {
   "cell_type": "markdown",
   "metadata": {},
   "source": [
    "## Matrix in numpy"
   ]
  },
  {
   "cell_type": "code",
   "execution_count": 4,
   "metadata": {},
   "outputs": [
    {
     "name": "stdout",
     "output_type": "stream",
     "text": [
      "<class 'numpy.matrix'>\n"
     ]
    }
   ],
   "source": [
    "import numpy as np \n",
    "\n",
    "var = np.matrix([[1,2,3],[1,2,3]])\n",
    "print(type(var))"
   ]
  },
  {
   "cell_type": "code",
   "execution_count": 7,
   "metadata": {},
   "outputs": [
    {
     "name": "stdout",
     "output_type": "stream",
     "text": [
      "[[3 6]\n",
      " [3 6]]\n"
     ]
    }
   ],
   "source": [
    "# Matrix multiplication\n",
    "var_a = np.matrix([[1,2],[1,2]])\n",
    "var_b = np.matrix([[1,2],[1,2]])\n",
    "\n",
    "# using dot function to multiply two matrix\n",
    "\n",
    "print(var_a.dot(var_b))\n"
   ]
  },
  {
   "cell_type": "markdown",
   "metadata": {},
   "source": [
    "### Matrix functions\n",
    "#### Transpose\n",
    "* The transpose of a matrix is an operation that involves swapping the rows and columns of the matrix. If you have a matrix A with dimensions m x n, the transpose of A, denoted as ATAT, will have dimensions n x m.\n"
   ]
  },
  {
   "cell_type": "code",
   "execution_count": 15,
   "metadata": {},
   "outputs": [
    {
     "name": "stdout",
     "output_type": "stream",
     "text": [
      "before Transpose \n",
      " [[1 2]\n",
      " [1 2]]\n",
      "******************************\n",
      "After Transpose \n",
      " [[1 1]\n",
      " [2 2]]\n",
      "After Transpose \n",
      " [[1 1]\n",
      " [2 2]]\n"
     ]
    }
   ],
   "source": [
    "var_a = np.matrix([[1,2],[1,2]])\n",
    "var_b = np.matrix([[1,2],[1,2]])\n",
    "\n",
    "print(\"before Transpose \\n\",var_a)\n",
    "\n",
    "print(\"*\"*30)\n",
    "\n",
    "\n",
    "print(\"After Transpose \\n\",np.transpose(var_a))\n",
    "print(\"After Transpose \\n\",var_a.T) #shortcut to transpose"
   ]
  },
  {
   "cell_type": "code",
   "execution_count": 18,
   "metadata": {},
   "outputs": [
    {
     "name": "stdout",
     "output_type": "stream",
     "text": [
      "[[-2.   1. ]\n",
      " [ 1.5 -0.5]]\n"
     ]
    }
   ],
   "source": [
    "var_i = np.matrix([[1,2],[3,4]])\n",
    "\n",
    "print(np.linalg.inv(var_i)) #inverse matrix"
   ]
  },
  {
   "cell_type": "code",
   "execution_count": 20,
   "metadata": {},
   "outputs": [
    {
     "name": "stdout",
     "output_type": "stream",
     "text": [
      "[[ 7 10]\n",
      " [15 22]]\n",
      "[[1 0]\n",
      " [0 1]]\n",
      "[[ 5.5  -2.5 ]\n",
      " [-3.75  1.75]]\n"
     ]
    }
   ],
   "source": [
    "var_p = np.matrix([[1,2],[3,4]])\n",
    "\n",
    "print(np.linalg.matrix_power(var_p, 2)) #power of 2\n",
    "print(np.linalg.matrix_power(var_p, 0)) #power of 0\n",
    "print(np.linalg.matrix_power(var_p, -2)) #power of -2"
   ]
  },
  {
   "cell_type": "code",
   "execution_count": 22,
   "metadata": {},
   "outputs": [
    {
     "name": "stdout",
     "output_type": "stream",
     "text": [
      "-2.0000000000000004\n"
     ]
    }
   ],
   "source": [
    "var_d = np.matrix([[1,2],[3,4]])\n",
    "\n",
    "print(np.linalg.det(var_d)) #determinate of matrix\n"
   ]
  },
  {
   "cell_type": "code",
   "execution_count": null,
   "metadata": {},
   "outputs": [],
   "source": []
  }
 ],
 "metadata": {
  "kernelspec": {
   "display_name": "Python 3",
   "language": "python",
   "name": "python3"
  },
  "language_info": {
   "codemirror_mode": {
    "name": "ipython",
    "version": 3
   },
   "file_extension": ".py",
   "mimetype": "text/x-python",
   "name": "python",
   "nbconvert_exporter": "python",
   "pygments_lexer": "ipython3",
   "version": "3.10.12"
  }
 },
 "nbformat": 4,
 "nbformat_minor": 2
}
