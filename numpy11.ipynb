{
 "cells": [
  {
   "cell_type": "code",
   "execution_count": 1,
   "metadata": {},
   "outputs": [],
   "source": [
    "import numpy as np"
   ]
  },
  {
   "cell_type": "markdown",
   "metadata": {},
   "source": [
    "## Search Array function\n",
    "- return the index of the searched array \n",
    "- use where keyword to search for an element."
   ]
  },
  {
   "cell_type": "markdown",
   "metadata": {},
   "source": []
  },
  {
   "cell_type": "code",
   "execution_count": 4,
   "metadata": {},
   "outputs": [
    {
     "name": "stdout",
     "output_type": "stream",
     "text": [
      "(array([1, 4]),)\n",
      "(array([1, 3, 4, 6]),)\n"
     ]
    }
   ],
   "source": [
    "var_a = np.array([1,2,3,4,2,5,6,7])\n",
    "# search 2\n",
    "x = np.where(var_a == 2)\n",
    "even = np.where((var_a %2) == 0)\n",
    "\n",
    "print(x)\n",
    "print(even)"
   ]
  },
  {
   "cell_type": "markdown",
   "metadata": {},
   "source": [
    "### Search Sorted Array\n",
    "\n",
    "If you want to search for a specific value in a sorted NumPy array, you can use the numpy.searchsorted function. This function performs a binary search on the sorted array and returns the index where the specified value should be inserted to maintain the array's sorted order."
   ]
  },
  {
   "cell_type": "code",
   "execution_count": 12,
   "metadata": {},
   "outputs": [
    {
     "name": "stdout",
     "output_type": "stream",
     "text": [
      "4\n",
      "[6 6 6]\n"
     ]
    }
   ],
   "source": [
    "var_x = np.array([1,2,3,4,6,7])\n",
    "x1 = np.searchsorted(var_x, 5)\n",
    "x2 = np.searchsorted(var_x, [9,10,11], side=\"right\")\n",
    "print(x1)\n",
    "print(x2)\n"
   ]
  },
  {
   "cell_type": "code",
   "execution_count": 15,
   "metadata": {},
   "outputs": [
    {
     "name": "stdout",
     "output_type": "stream",
     "text": [
      "[1 2 4 5 6]\n"
     ]
    }
   ],
   "source": [
    "# Sort array in ascending order\n",
    "\n",
    "var_unsort = np.array([2,4,1,6,5])\n",
    "var_sort = np.sort(var_unsort)\n",
    "print(var_sort)"
   ]
  },
  {
   "cell_type": "code",
   "execution_count": 18,
   "metadata": {},
   "outputs": [
    {
     "name": "stdout",
     "output_type": "stream",
     "text": [
      "['a' 'd' 'c']\n"
     ]
    }
   ],
   "source": [
    "# Filter Array -Getting some elements from an existing array and creating new array out of them.\n",
    "\n",
    "var_alpha = np.array(['a','b','d','c'])\n",
    "fil = [True,False,True,True]\n",
    "\n",
    "new_a = var_alpha[fil] #store all true elements of var_alpha\n",
    "\n",
    "print(new_a)"
   ]
  },
  {
   "cell_type": "code",
   "execution_count": null,
   "metadata": {},
   "outputs": [],
   "source": []
  }
 ],
 "metadata": {
  "kernelspec": {
   "display_name": "Python 3",
   "language": "python",
   "name": "python3"
  },
  "language_info": {
   "codemirror_mode": {
    "name": "ipython",
    "version": 3
   },
   "file_extension": ".py",
   "mimetype": "text/x-python",
   "name": "python",
   "nbconvert_exporter": "python",
   "pygments_lexer": "ipython3",
   "version": "3.10.12"
  }
 },
 "nbformat": 4,
 "nbformat_minor": 2
}
