{
 "cells": [
  {
   "cell_type": "markdown",
   "metadata": {},
   "source": [
    "## Copy and View in numpy array"
   ]
  },
  {
   "cell_type": "markdown",
   "metadata": {},
   "source": [
    "In NumPy, the concepts of copying and viewing arrays are important and can have implications for how changes to arrays affect other arrays. Here's a brief explanation of the difference between copying and viewing in NumPy:\n",
    "\n",
    "**Copy**:\n",
    "\n",
    "    > ```console\n",
    "    When you make a copy of a NumPy array, you create a new array with its own data. Changes to the copied array do not affect the original array, and vice versa.\n",
    "\n",
    "    You can create a copy of an array using the copy() method or the np.copy()\n",
    "    ```\n",
    "**View**:\n",
    "\n",
    "    > ```console\n",
    "    A view of an array is a new array that refers to the same data as the original array. Changes made to the view affect the original array and vice versa.\n",
    "\n",
    "    Views are created using slicing or using the view() method.\n",
    "   ```"
   ]
  },
  {
   "cell_type": "code",
   "execution_count": 9,
   "metadata": {},
   "outputs": [
    {
     "name": "stdout",
     "output_type": "stream",
     "text": [
      "before operation\n",
      "Var_a  [1 2 3 4]\n",
      "copy_a  [1 2 3 4]\n",
      "after operation\n",
      "Var_a  [1 7 3 4]\n",
      "copy_a  [1 2 3 4]\n"
     ]
    }
   ],
   "source": [
    "import numpy as np \n",
    "\n",
    "var_a = np.array([1,2,3,4])\n",
    "\n",
    "copy_a = var_a.copy()\n",
    "print(\"before operation\")\n",
    "print(\"Var_a \", var_a)\n",
    "print(\"copy_a \", copy_a)\n",
    "\n",
    "# alter the value of index 1 i.e, 2. lets make it 7\n",
    "print(\"after operation\")\n",
    "var_a[1] = 7\n",
    "print(\"Var_a \", var_a)\n",
    "print(\"copy_a \", copy_a) #copy retains its own data"
   ]
  },
  {
   "cell_type": "code",
   "execution_count": 10,
   "metadata": {},
   "outputs": [
    {
     "name": "stdout",
     "output_type": "stream",
     "text": [
      "before operation\n",
      "Var_b  [1 2 3 4]\n",
      "view_b  [1 2 3 4]\n",
      "after operation\n",
      "Var_b  [1 8 3 4]\n",
      "view_b  [1 8 3 4]\n"
     ]
    }
   ],
   "source": [
    "# view\n",
    "var_b = np.array([1,2,3,4])\n",
    "view_b = var_b.view()\n",
    "\n",
    "print(\"before operation\")\n",
    "print(\"Var_b \", var_b)\n",
    "print(\"view_b \", view_b)\n",
    "\n",
    "# Alter 2nd Index value to 8\n",
    "print(\"after operation\")\n",
    "var_b[1] = 8\n",
    "print(\"Var_b \", var_b)\n",
    "print(\"view_b \", view_b)\n"
   ]
  },
  {
   "cell_type": "code",
   "execution_count": null,
   "metadata": {},
   "outputs": [],
   "source": []
  }
 ],
 "metadata": {
  "kernelspec": {
   "display_name": "Python 3",
   "language": "python",
   "name": "python3"
  },
  "language_info": {
   "codemirror_mode": {
    "name": "ipython",
    "version": 3
   },
   "file_extension": ".py",
   "mimetype": "text/x-python",
   "name": "python",
   "nbconvert_exporter": "python",
   "pygments_lexer": "ipython3",
   "version": "3.10.12"
  }
 },
 "nbformat": 4,
 "nbformat_minor": 2
}
