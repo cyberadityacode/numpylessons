{
 "cells": [
  {
   "cell_type": "markdown",
   "metadata": {},
   "source": [
    "## Arithmatic Operation in numpy array"
   ]
  },
  {
   "cell_type": "code",
   "execution_count": 2,
   "metadata": {},
   "outputs": [
    {
     "name": "stdout",
     "output_type": "stream",
     "text": [
      "[4 5 6 7]\n"
     ]
    }
   ],
   "source": [
    "import numpy as np\n",
    "# add 1D array with 3\n",
    "\n",
    "var = np.array([1,2,3,4])\n",
    "var_add = var + 3\n",
    "print(var_add)"
   ]
  },
  {
   "cell_type": "code",
   "execution_count": 3,
   "metadata": {},
   "outputs": [
    {
     "name": "stdout",
     "output_type": "stream",
     "text": [
      "[2 4 6 8]\n"
     ]
    }
   ],
   "source": [
    "# add 1D array with another 1D\n",
    "\n",
    "var_a = np.array([1,2,3,4])\n",
    "var_b = np.array([1,2,3,4])\n",
    "var_add = var_a + var_b\n",
    "print(var_add)"
   ]
  },
  {
   "cell_type": "code",
   "execution_count": 8,
   "metadata": {},
   "outputs": [
    {
     "name": "stdout",
     "output_type": "stream",
     "text": [
      "[ 36  69 135  15]\n",
      "[0 1 1 1]\n"
     ]
    }
   ],
   "source": [
    "# Similar Operation using other operators Eg. Multiply by 3\n",
    "var_to_mul = np.array([12,23,45,5])\n",
    "print(var_to_mul *3)\n",
    "\n",
    "# print(var_to_mul /3)  #Divide\n",
    "print(var_to_mul %2) #Modulus for getting remainder\n"
   ]
  },
  {
   "cell_type": "code",
   "execution_count": 9,
   "metadata": {},
   "outputs": [
    {
     "name": "stdout",
     "output_type": "stream",
     "text": [
      "[2 4 6 8]\n"
     ]
    }
   ],
   "source": [
    "# Using add function\n",
    "\n",
    "var1 = np.array([1,2,3,4])\n",
    "var2 = np.array([1,2,3,4])\n",
    "\n",
    "print(np.add(var1,var2))"
   ]
  },
  {
   "cell_type": "markdown",
   "metadata": {},
   "source": [
    "## 2D Array"
   ]
  },
  {
   "cell_type": "code",
   "execution_count": 15,
   "metadata": {},
   "outputs": [
    {
     "name": "stdout",
     "output_type": "stream",
     "text": [
      "[[2 4 6 8]\n",
      " [2 4 6 8]]\n",
      "[[ 1  4  9 16]\n",
      " [ 1  4  9 16]]\n",
      "Reciprocal \n",
      " [[1 0 0 0]\n",
      " [1 0 0 0]]\n"
     ]
    }
   ],
   "source": [
    "var_2d_a = np.array([[1,2,3,4],[1,2,3,4]])\n",
    "var_2d_b = np.array([[1,2,3,4],[1,2,3,4]])\n",
    "\n",
    "print(np.add(var_2d_a,var_2d_b))\n",
    "print(np.multiply(var_2d_a,var_2d_b))\n",
    "print(\"Reciprocal \\n\",np.reciprocal(var_2d_a))"
   ]
  },
  {
   "cell_type": "code",
   "execution_count": null,
   "metadata": {},
   "outputs": [],
   "source": []
  }
 ],
 "metadata": {
  "kernelspec": {
   "display_name": "Python 3",
   "language": "python",
   "name": "python3"
  },
  "language_info": {
   "codemirror_mode": {
    "name": "ipython",
    "version": 3
   },
   "file_extension": ".py",
   "mimetype": "text/x-python",
   "name": "python",
   "nbconvert_exporter": "python",
   "pygments_lexer": "ipython3",
   "version": "3.10.12"
  }
 },
 "nbformat": 4,
 "nbformat_minor": 2
}
